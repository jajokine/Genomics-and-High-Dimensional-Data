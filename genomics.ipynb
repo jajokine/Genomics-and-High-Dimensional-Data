{
 "cells": [
  {
   "cell_type": "code",
   "execution_count": 9,
   "metadata": {},
   "outputs": [],
   "source": [
    "import pandas as pd\n",
    "import numpy as np\n",
    "import os\n",
    "\n",
    "import matplotlib as mpl\n",
    "from matplotlib import pyplot as plt\n",
    "import seaborn as sns\n",
    "import scipy.stats as stats\n",
    "import statsmodels.api as sm\n",
    "from statsmodels.base.model import GenericLikelihoodModel\n",
    "%matplotlib inline\n",
    "mpl.rc('axes', labelsize=14)\n",
    "mpl.rc('xtick', labelsize=12)\n",
    "mpl.rc('ytick', labelsize=12)\n",
    "\n",
    "import numpy.linalg as npl\n",
    "from sklearn.model_selection import GridSearchCV\n",
    "from sklearn.metrics import accuracy_score, silhouette_score\n",
    "from sklearn.linear_model import LinearRegression, SGDRegressor, LogisticRegression\n",
    "from sklearn.decomposition import PCA\n",
    "from sklearn.cluster import KMeans\n",
    "from sklearn.manifold import MDS, TSNE\n",
    "from sklearn.mixture import GaussianMixture"
   ]
  },
  {
   "cell_type": "code",
   "execution_count": 11,
   "metadata": {},
   "outputs": [],
   "source": [
    "# Where to save the figures\n",
    "PROJECT_ROOT_DIR = \".\"\n",
    "CHAPTER_ID = \"project 1\"\n",
    "IMAGES_PATH = os.path.join(PROJECT_ROOT_DIR, \"images\", CHAPTER_ID)\n",
    "os.makedirs(IMAGES_PATH, exist_ok=True)\n",
    "\n",
    "# Function to save figures\n",
    "def save_fig(fig_id, tight_layout=True, fig_extension=\"png\", resolution=300):\n",
    "    path = os.path.join(IMAGES_PATH, fig_id + \".\" + fig_extension)\n",
    "    print(\"Saving figure\", fig_id)\n",
    "    if tight_layout:\n",
    "        plt.tight_layout()\n",
    "    plt.savefig(path, format=fig_extension, dpi=resolution)"
   ]
  },
  {
   "cell_type": "code",
   "execution_count": 2,
   "metadata": {},
   "outputs": [],
   "source": [
    "X = np.load('p1/X.npy')\n",
    "y = np.load('p1/y.npy')"
   ]
  },
  {
   "cell_type": "code",
   "execution_count": 3,
   "metadata": {},
   "outputs": [
    {
     "data": {
      "text/plain": [
       "(511,)"
      ]
     },
     "execution_count": 3,
     "metadata": {},
     "output_type": "execute_result"
    }
   ],
   "source": [
    "y.shape"
   ]
  },
  {
   "cell_type": "code",
   "execution_count": 4,
   "metadata": {},
   "outputs": [
    {
     "data": {
      "text/plain": [
       "(511, 45768)"
      ]
     },
     "execution_count": 4,
     "metadata": {},
     "output_type": "execute_result"
    }
   ],
   "source": [
    "X.shape"
   ]
  },
  {
   "cell_type": "code",
   "execution_count": 14,
   "metadata": {},
   "outputs": [],
   "source": [
    "x_pd = pd.DataFrame(X)"
   ]
  },
  {
   "cell_type": "code",
   "execution_count": 16,
   "metadata": {},
   "outputs": [
    {
     "data": {
      "text/html": [
       "<div>\n",
       "<style scoped>\n",
       "    .dataframe tbody tr th:only-of-type {\n",
       "        vertical-align: middle;\n",
       "    }\n",
       "\n",
       "    .dataframe tbody tr th {\n",
       "        vertical-align: top;\n",
       "    }\n",
       "\n",
       "    .dataframe thead th {\n",
       "        text-align: right;\n",
       "    }\n",
       "</style>\n",
       "<table border=\"1\" class=\"dataframe\">\n",
       "  <thead>\n",
       "    <tr style=\"text-align: right;\">\n",
       "      <th></th>\n",
       "      <th>0</th>\n",
       "      <th>1</th>\n",
       "      <th>2</th>\n",
       "      <th>3</th>\n",
       "      <th>4</th>\n",
       "      <th>5</th>\n",
       "      <th>6</th>\n",
       "      <th>7</th>\n",
       "      <th>8</th>\n",
       "      <th>9</th>\n",
       "      <th>...</th>\n",
       "      <th>45758</th>\n",
       "      <th>45759</th>\n",
       "      <th>45760</th>\n",
       "      <th>45761</th>\n",
       "      <th>45762</th>\n",
       "      <th>45763</th>\n",
       "      <th>45764</th>\n",
       "      <th>45765</th>\n",
       "      <th>45766</th>\n",
       "      <th>45767</th>\n",
       "    </tr>\n",
       "  </thead>\n",
       "  <tbody>\n",
       "    <tr>\n",
       "      <th>count</th>\n",
       "      <td>511.000000</td>\n",
       "      <td>511.000000</td>\n",
       "      <td>511.000000</td>\n",
       "      <td>511.000000</td>\n",
       "      <td>511.000000</td>\n",
       "      <td>511.000000</td>\n",
       "      <td>511.000000</td>\n",
       "      <td>511.0</td>\n",
       "      <td>511.000000</td>\n",
       "      <td>511.000000</td>\n",
       "      <td>...</td>\n",
       "      <td>511.0</td>\n",
       "      <td>511.000000</td>\n",
       "      <td>511.0</td>\n",
       "      <td>511.0</td>\n",
       "      <td>511.0</td>\n",
       "      <td>511.0</td>\n",
       "      <td>511.0</td>\n",
       "      <td>511.0</td>\n",
       "      <td>511.0</td>\n",
       "      <td>511.0</td>\n",
       "    </tr>\n",
       "    <tr>\n",
       "      <th>mean</th>\n",
       "      <td>0.054672</td>\n",
       "      <td>0.058250</td>\n",
       "      <td>90.353914</td>\n",
       "      <td>88.537287</td>\n",
       "      <td>0.452837</td>\n",
       "      <td>7.951541</td>\n",
       "      <td>6.433697</td>\n",
       "      <td>0.0</td>\n",
       "      <td>79.970117</td>\n",
       "      <td>52.317877</td>\n",
       "      <td>...</td>\n",
       "      <td>0.0</td>\n",
       "      <td>0.005030</td>\n",
       "      <td>0.0</td>\n",
       "      <td>0.0</td>\n",
       "      <td>0.0</td>\n",
       "      <td>0.0</td>\n",
       "      <td>0.0</td>\n",
       "      <td>0.0</td>\n",
       "      <td>0.0</td>\n",
       "      <td>0.0</td>\n",
       "    </tr>\n",
       "    <tr>\n",
       "      <th>std</th>\n",
       "      <td>0.626603</td>\n",
       "      <td>0.933128</td>\n",
       "      <td>75.322807</td>\n",
       "      <td>99.396369</td>\n",
       "      <td>1.764018</td>\n",
       "      <td>18.480603</td>\n",
       "      <td>16.583797</td>\n",
       "      <td>0.0</td>\n",
       "      <td>100.438791</td>\n",
       "      <td>47.862698</td>\n",
       "      <td>...</td>\n",
       "      <td>0.0</td>\n",
       "      <td>0.113697</td>\n",
       "      <td>0.0</td>\n",
       "      <td>0.0</td>\n",
       "      <td>0.0</td>\n",
       "      <td>0.0</td>\n",
       "      <td>0.0</td>\n",
       "      <td>0.0</td>\n",
       "      <td>0.0</td>\n",
       "      <td>0.0</td>\n",
       "    </tr>\n",
       "    <tr>\n",
       "      <th>min</th>\n",
       "      <td>0.000000</td>\n",
       "      <td>0.000000</td>\n",
       "      <td>0.000000</td>\n",
       "      <td>0.000000</td>\n",
       "      <td>0.000000</td>\n",
       "      <td>0.000000</td>\n",
       "      <td>0.000000</td>\n",
       "      <td>0.0</td>\n",
       "      <td>0.000000</td>\n",
       "      <td>0.000000</td>\n",
       "      <td>...</td>\n",
       "      <td>0.0</td>\n",
       "      <td>0.000000</td>\n",
       "      <td>0.0</td>\n",
       "      <td>0.0</td>\n",
       "      <td>0.0</td>\n",
       "      <td>0.0</td>\n",
       "      <td>0.0</td>\n",
       "      <td>0.0</td>\n",
       "      <td>0.0</td>\n",
       "      <td>0.0</td>\n",
       "    </tr>\n",
       "    <tr>\n",
       "      <th>25%</th>\n",
       "      <td>0.000000</td>\n",
       "      <td>0.000000</td>\n",
       "      <td>46.519974</td>\n",
       "      <td>30.533496</td>\n",
       "      <td>0.000000</td>\n",
       "      <td>0.000000</td>\n",
       "      <td>0.000000</td>\n",
       "      <td>0.0</td>\n",
       "      <td>20.874684</td>\n",
       "      <td>23.913273</td>\n",
       "      <td>...</td>\n",
       "      <td>0.0</td>\n",
       "      <td>0.000000</td>\n",
       "      <td>0.0</td>\n",
       "      <td>0.0</td>\n",
       "      <td>0.0</td>\n",
       "      <td>0.0</td>\n",
       "      <td>0.0</td>\n",
       "      <td>0.0</td>\n",
       "      <td>0.0</td>\n",
       "      <td>0.0</td>\n",
       "    </tr>\n",
       "    <tr>\n",
       "      <th>50%</th>\n",
       "      <td>0.000000</td>\n",
       "      <td>0.000000</td>\n",
       "      <td>78.631988</td>\n",
       "      <td>70.721072</td>\n",
       "      <td>0.000000</td>\n",
       "      <td>0.000000</td>\n",
       "      <td>1.508132</td>\n",
       "      <td>0.0</td>\n",
       "      <td>60.448151</td>\n",
       "      <td>43.418288</td>\n",
       "      <td>...</td>\n",
       "      <td>0.0</td>\n",
       "      <td>0.000000</td>\n",
       "      <td>0.0</td>\n",
       "      <td>0.0</td>\n",
       "      <td>0.0</td>\n",
       "      <td>0.0</td>\n",
       "      <td>0.0</td>\n",
       "      <td>0.0</td>\n",
       "      <td>0.0</td>\n",
       "      <td>0.0</td>\n",
       "    </tr>\n",
       "    <tr>\n",
       "      <th>75%</th>\n",
       "      <td>0.000000</td>\n",
       "      <td>0.000000</td>\n",
       "      <td>117.655529</td>\n",
       "      <td>115.518626</td>\n",
       "      <td>0.000000</td>\n",
       "      <td>11.297401</td>\n",
       "      <td>5.907717</td>\n",
       "      <td>0.0</td>\n",
       "      <td>111.790365</td>\n",
       "      <td>67.034210</td>\n",
       "      <td>...</td>\n",
       "      <td>0.0</td>\n",
       "      <td>0.000000</td>\n",
       "      <td>0.0</td>\n",
       "      <td>0.0</td>\n",
       "      <td>0.0</td>\n",
       "      <td>0.0</td>\n",
       "      <td>0.0</td>\n",
       "      <td>0.0</td>\n",
       "      <td>0.0</td>\n",
       "      <td>0.0</td>\n",
       "    </tr>\n",
       "    <tr>\n",
       "      <th>max</th>\n",
       "      <td>11.941398</td>\n",
       "      <td>16.066405</td>\n",
       "      <td>817.737136</td>\n",
       "      <td>959.055180</td>\n",
       "      <td>18.063125</td>\n",
       "      <td>209.208108</td>\n",
       "      <td>223.440719</td>\n",
       "      <td>0.0</td>\n",
       "      <td>1172.775364</td>\n",
       "      <td>442.544844</td>\n",
       "      <td>...</td>\n",
       "      <td>0.0</td>\n",
       "      <td>2.570152</td>\n",
       "      <td>0.0</td>\n",
       "      <td>0.0</td>\n",
       "      <td>0.0</td>\n",
       "      <td>0.0</td>\n",
       "      <td>0.0</td>\n",
       "      <td>0.0</td>\n",
       "      <td>0.0</td>\n",
       "      <td>0.0</td>\n",
       "    </tr>\n",
       "  </tbody>\n",
       "</table>\n",
       "<p>8 rows × 45768 columns</p>\n",
       "</div>"
      ],
      "text/plain": [
       "            0           1           2           3           4           5      \\\n",
       "count  511.000000  511.000000  511.000000  511.000000  511.000000  511.000000   \n",
       "mean     0.054672    0.058250   90.353914   88.537287    0.452837    7.951541   \n",
       "std      0.626603    0.933128   75.322807   99.396369    1.764018   18.480603   \n",
       "min      0.000000    0.000000    0.000000    0.000000    0.000000    0.000000   \n",
       "25%      0.000000    0.000000   46.519974   30.533496    0.000000    0.000000   \n",
       "50%      0.000000    0.000000   78.631988   70.721072    0.000000    0.000000   \n",
       "75%      0.000000    0.000000  117.655529  115.518626    0.000000   11.297401   \n",
       "max     11.941398   16.066405  817.737136  959.055180   18.063125  209.208108   \n",
       "\n",
       "            6      7            8           9      ...  45758       45759  \\\n",
       "count  511.000000  511.0   511.000000  511.000000  ...  511.0  511.000000   \n",
       "mean     6.433697    0.0    79.970117   52.317877  ...    0.0    0.005030   \n",
       "std     16.583797    0.0   100.438791   47.862698  ...    0.0    0.113697   \n",
       "min      0.000000    0.0     0.000000    0.000000  ...    0.0    0.000000   \n",
       "25%      0.000000    0.0    20.874684   23.913273  ...    0.0    0.000000   \n",
       "50%      1.508132    0.0    60.448151   43.418288  ...    0.0    0.000000   \n",
       "75%      5.907717    0.0   111.790365   67.034210  ...    0.0    0.000000   \n",
       "max    223.440719    0.0  1172.775364  442.544844  ...    0.0    2.570152   \n",
       "\n",
       "       45760  45761  45762  45763  45764  45765  45766  45767  \n",
       "count  511.0  511.0  511.0  511.0  511.0  511.0  511.0  511.0  \n",
       "mean     0.0    0.0    0.0    0.0    0.0    0.0    0.0    0.0  \n",
       "std      0.0    0.0    0.0    0.0    0.0    0.0    0.0    0.0  \n",
       "min      0.0    0.0    0.0    0.0    0.0    0.0    0.0    0.0  \n",
       "25%      0.0    0.0    0.0    0.0    0.0    0.0    0.0    0.0  \n",
       "50%      0.0    0.0    0.0    0.0    0.0    0.0    0.0    0.0  \n",
       "75%      0.0    0.0    0.0    0.0    0.0    0.0    0.0    0.0  \n",
       "max      0.0    0.0    0.0    0.0    0.0    0.0    0.0    0.0  \n",
       "\n",
       "[8 rows x 45768 columns]"
      ]
     },
     "execution_count": 16,
     "metadata": {},
     "output_type": "execute_result"
    }
   ],
   "source": [
    "x_pd.describe()"
   ]
  },
  {
   "cell_type": "code",
   "execution_count": 17,
   "metadata": {},
   "outputs": [
    {
     "name": "stdout",
     "output_type": "stream",
     "text": [
      "<class 'pandas.core.frame.DataFrame'>\n",
      "RangeIndex: 511 entries, 0 to 510\n",
      "Columns: 45768 entries, 0 to 45767\n",
      "dtypes: float64(45768)\n",
      "memory usage: 178.4 MB\n"
     ]
    }
   ],
   "source": [
    "x_pd.info()"
   ]
  },
  {
   "cell_type": "code",
   "execution_count": 5,
   "metadata": {},
   "outputs": [],
   "source": [
    "X_log2 = np.log2(X+1)"
   ]
  },
  {
   "cell_type": "code",
   "execution_count": 45,
   "metadata": {},
   "outputs": [],
   "source": [
    "x_log_pd = pd.DataFrame(X_log2)"
   ]
  },
  {
   "cell_type": "code",
   "execution_count": 46,
   "metadata": {},
   "outputs": [
    {
     "data": {
      "text/html": [
       "<div>\n",
       "<style scoped>\n",
       "    .dataframe tbody tr th:only-of-type {\n",
       "        vertical-align: middle;\n",
       "    }\n",
       "\n",
       "    .dataframe tbody tr th {\n",
       "        vertical-align: top;\n",
       "    }\n",
       "\n",
       "    .dataframe thead th {\n",
       "        text-align: right;\n",
       "    }\n",
       "</style>\n",
       "<table border=\"1\" class=\"dataframe\">\n",
       "  <thead>\n",
       "    <tr style=\"text-align: right;\">\n",
       "      <th></th>\n",
       "      <th>0</th>\n",
       "      <th>1</th>\n",
       "      <th>2</th>\n",
       "      <th>3</th>\n",
       "      <th>4</th>\n",
       "      <th>5</th>\n",
       "      <th>6</th>\n",
       "      <th>7</th>\n",
       "      <th>8</th>\n",
       "      <th>9</th>\n",
       "      <th>...</th>\n",
       "      <th>45758</th>\n",
       "      <th>45759</th>\n",
       "      <th>45760</th>\n",
       "      <th>45761</th>\n",
       "      <th>45762</th>\n",
       "      <th>45763</th>\n",
       "      <th>45764</th>\n",
       "      <th>45765</th>\n",
       "      <th>45766</th>\n",
       "      <th>45767</th>\n",
       "    </tr>\n",
       "  </thead>\n",
       "  <tbody>\n",
       "    <tr>\n",
       "      <th>count</th>\n",
       "      <td>511.000000</td>\n",
       "      <td>511.000000</td>\n",
       "      <td>511.000000</td>\n",
       "      <td>511.000000</td>\n",
       "      <td>511.000000</td>\n",
       "      <td>511.000000</td>\n",
       "      <td>511.000000</td>\n",
       "      <td>511.0</td>\n",
       "      <td>511.000000</td>\n",
       "      <td>511.000000</td>\n",
       "      <td>...</td>\n",
       "      <td>511.0</td>\n",
       "      <td>511.000000</td>\n",
       "      <td>511.0</td>\n",
       "      <td>511.0</td>\n",
       "      <td>511.0</td>\n",
       "      <td>511.0</td>\n",
       "      <td>511.0</td>\n",
       "      <td>511.0</td>\n",
       "      <td>511.0</td>\n",
       "      <td>511.0</td>\n",
       "    </tr>\n",
       "    <tr>\n",
       "      <th>mean</th>\n",
       "      <td>0.028161</td>\n",
       "      <td>0.015598</td>\n",
       "      <td>5.830424</td>\n",
       "      <td>5.421903</td>\n",
       "      <td>0.239291</td>\n",
       "      <td>1.590487</td>\n",
       "      <td>1.664785</td>\n",
       "      <td>0.0</td>\n",
       "      <td>5.104388</td>\n",
       "      <td>5.055406</td>\n",
       "      <td>...</td>\n",
       "      <td>0.0</td>\n",
       "      <td>0.003593</td>\n",
       "      <td>0.0</td>\n",
       "      <td>0.0</td>\n",
       "      <td>0.0</td>\n",
       "      <td>0.0</td>\n",
       "      <td>0.0</td>\n",
       "      <td>0.0</td>\n",
       "      <td>0.0</td>\n",
       "      <td>0.0</td>\n",
       "    </tr>\n",
       "    <tr>\n",
       "      <th>std</th>\n",
       "      <td>0.254691</td>\n",
       "      <td>0.249177</td>\n",
       "      <td>1.940109</td>\n",
       "      <td>2.352030</td>\n",
       "      <td>0.696383</td>\n",
       "      <td>2.022056</td>\n",
       "      <td>1.701018</td>\n",
       "      <td>0.0</td>\n",
       "      <td>2.508239</td>\n",
       "      <td>1.786475</td>\n",
       "      <td>...</td>\n",
       "      <td>0.0</td>\n",
       "      <td>0.081219</td>\n",
       "      <td>0.0</td>\n",
       "      <td>0.0</td>\n",
       "      <td>0.0</td>\n",
       "      <td>0.0</td>\n",
       "      <td>0.0</td>\n",
       "      <td>0.0</td>\n",
       "      <td>0.0</td>\n",
       "      <td>0.0</td>\n",
       "    </tr>\n",
       "    <tr>\n",
       "      <th>min</th>\n",
       "      <td>0.000000</td>\n",
       "      <td>0.000000</td>\n",
       "      <td>0.000000</td>\n",
       "      <td>0.000000</td>\n",
       "      <td>0.000000</td>\n",
       "      <td>0.000000</td>\n",
       "      <td>0.000000</td>\n",
       "      <td>0.0</td>\n",
       "      <td>0.000000</td>\n",
       "      <td>0.000000</td>\n",
       "      <td>...</td>\n",
       "      <td>0.0</td>\n",
       "      <td>0.000000</td>\n",
       "      <td>0.0</td>\n",
       "      <td>0.0</td>\n",
       "      <td>0.0</td>\n",
       "      <td>0.0</td>\n",
       "      <td>0.0</td>\n",
       "      <td>0.0</td>\n",
       "      <td>0.0</td>\n",
       "      <td>0.0</td>\n",
       "    </tr>\n",
       "    <tr>\n",
       "      <th>25%</th>\n",
       "      <td>0.000000</td>\n",
       "      <td>0.000000</td>\n",
       "      <td>5.570451</td>\n",
       "      <td>4.978767</td>\n",
       "      <td>0.000000</td>\n",
       "      <td>0.000000</td>\n",
       "      <td>0.000000</td>\n",
       "      <td>0.0</td>\n",
       "      <td>4.451187</td>\n",
       "      <td>4.638842</td>\n",
       "      <td>...</td>\n",
       "      <td>0.0</td>\n",
       "      <td>0.000000</td>\n",
       "      <td>0.0</td>\n",
       "      <td>0.0</td>\n",
       "      <td>0.0</td>\n",
       "      <td>0.0</td>\n",
       "      <td>0.0</td>\n",
       "      <td>0.0</td>\n",
       "      <td>0.0</td>\n",
       "      <td>0.0</td>\n",
       "    </tr>\n",
       "    <tr>\n",
       "      <th>50%</th>\n",
       "      <td>0.000000</td>\n",
       "      <td>0.000000</td>\n",
       "      <td>6.315276</td>\n",
       "      <td>6.164325</td>\n",
       "      <td>0.000000</td>\n",
       "      <td>0.000000</td>\n",
       "      <td>1.326613</td>\n",
       "      <td>0.0</td>\n",
       "      <td>5.941298</td>\n",
       "      <td>5.473082</td>\n",
       "      <td>...</td>\n",
       "      <td>0.0</td>\n",
       "      <td>0.000000</td>\n",
       "      <td>0.0</td>\n",
       "      <td>0.0</td>\n",
       "      <td>0.0</td>\n",
       "      <td>0.0</td>\n",
       "      <td>0.0</td>\n",
       "      <td>0.0</td>\n",
       "      <td>0.0</td>\n",
       "      <td>0.0</td>\n",
       "    </tr>\n",
       "    <tr>\n",
       "      <th>75%</th>\n",
       "      <td>0.000000</td>\n",
       "      <td>0.000000</td>\n",
       "      <td>6.890635</td>\n",
       "      <td>6.864415</td>\n",
       "      <td>0.000000</td>\n",
       "      <td>3.620281</td>\n",
       "      <td>2.788197</td>\n",
       "      <td>0.0</td>\n",
       "      <td>6.817500</td>\n",
       "      <td>6.088188</td>\n",
       "      <td>...</td>\n",
       "      <td>0.0</td>\n",
       "      <td>0.000000</td>\n",
       "      <td>0.0</td>\n",
       "      <td>0.0</td>\n",
       "      <td>0.0</td>\n",
       "      <td>0.0</td>\n",
       "      <td>0.0</td>\n",
       "      <td>0.0</td>\n",
       "      <td>0.0</td>\n",
       "      <td>0.0</td>\n",
       "    </tr>\n",
       "    <tr>\n",
       "      <th>max</th>\n",
       "      <td>3.693922</td>\n",
       "      <td>4.093087</td>\n",
       "      <td>9.677257</td>\n",
       "      <td>9.906974</td>\n",
       "      <td>4.252713</td>\n",
       "      <td>7.715675</td>\n",
       "      <td>7.810191</td>\n",
       "      <td>0.0</td>\n",
       "      <td>10.196941</td>\n",
       "      <td>8.792936</td>\n",
       "      <td>...</td>\n",
       "      <td>0.0</td>\n",
       "      <td>1.835986</td>\n",
       "      <td>0.0</td>\n",
       "      <td>0.0</td>\n",
       "      <td>0.0</td>\n",
       "      <td>0.0</td>\n",
       "      <td>0.0</td>\n",
       "      <td>0.0</td>\n",
       "      <td>0.0</td>\n",
       "      <td>0.0</td>\n",
       "    </tr>\n",
       "  </tbody>\n",
       "</table>\n",
       "<p>8 rows × 45768 columns</p>\n",
       "</div>"
      ],
      "text/plain": [
       "            0           1           2           3           4           5      \\\n",
       "count  511.000000  511.000000  511.000000  511.000000  511.000000  511.000000   \n",
       "mean     0.028161    0.015598    5.830424    5.421903    0.239291    1.590487   \n",
       "std      0.254691    0.249177    1.940109    2.352030    0.696383    2.022056   \n",
       "min      0.000000    0.000000    0.000000    0.000000    0.000000    0.000000   \n",
       "25%      0.000000    0.000000    5.570451    4.978767    0.000000    0.000000   \n",
       "50%      0.000000    0.000000    6.315276    6.164325    0.000000    0.000000   \n",
       "75%      0.000000    0.000000    6.890635    6.864415    0.000000    3.620281   \n",
       "max      3.693922    4.093087    9.677257    9.906974    4.252713    7.715675   \n",
       "\n",
       "            6      7           8           9      ...  45758       45759  \\\n",
       "count  511.000000  511.0  511.000000  511.000000  ...  511.0  511.000000   \n",
       "mean     1.664785    0.0    5.104388    5.055406  ...    0.0    0.003593   \n",
       "std      1.701018    0.0    2.508239    1.786475  ...    0.0    0.081219   \n",
       "min      0.000000    0.0    0.000000    0.000000  ...    0.0    0.000000   \n",
       "25%      0.000000    0.0    4.451187    4.638842  ...    0.0    0.000000   \n",
       "50%      1.326613    0.0    5.941298    5.473082  ...    0.0    0.000000   \n",
       "75%      2.788197    0.0    6.817500    6.088188  ...    0.0    0.000000   \n",
       "max      7.810191    0.0   10.196941    8.792936  ...    0.0    1.835986   \n",
       "\n",
       "       45760  45761  45762  45763  45764  45765  45766  45767  \n",
       "count  511.0  511.0  511.0  511.0  511.0  511.0  511.0  511.0  \n",
       "mean     0.0    0.0    0.0    0.0    0.0    0.0    0.0    0.0  \n",
       "std      0.0    0.0    0.0    0.0    0.0    0.0    0.0    0.0  \n",
       "min      0.0    0.0    0.0    0.0    0.0    0.0    0.0    0.0  \n",
       "25%      0.0    0.0    0.0    0.0    0.0    0.0    0.0    0.0  \n",
       "50%      0.0    0.0    0.0    0.0    0.0    0.0    0.0    0.0  \n",
       "75%      0.0    0.0    0.0    0.0    0.0    0.0    0.0    0.0  \n",
       "max      0.0    0.0    0.0    0.0    0.0    0.0    0.0    0.0  \n",
       "\n",
       "[8 rows x 45768 columns]"
      ]
     },
     "execution_count": 46,
     "metadata": {},
     "output_type": "execute_result"
    }
   ],
   "source": [
    "x_log_pd.describe()"
   ]
  },
  {
   "cell_type": "code",
   "execution_count": 36,
   "metadata": {},
   "outputs": [
    {
     "data": {
      "text/plain": [
       "3.6939215683789626"
      ]
     },
     "execution_count": 36,
     "metadata": {},
     "output_type": "execute_result"
    }
   ],
   "source": [
    "np.log2(11.941398+1)"
   ]
  },
  {
   "cell_type": "code",
   "execution_count": 17,
   "metadata": {},
   "outputs": [
    {
     "name": "stdout",
     "output_type": "stream",
     "text": [
      "Saving figure Elbow_plot_with_log_values\n"
     ]
    },
    {
     "data": {
      "image/png": "[encoded data removed]",
      "text/plain": [
       "<Figure size 576x252 with 1 Axes>"
      ]
     },
     "metadata": {
      "needs_background": "light"
     },
     "output_type": "display_data"
    }
   ],
   "source": [
    "# Aplying K-means with elbow method to choose amount of clusters\n",
    "\n",
    "kmeans_per_k = [KMeans(n_clusters=k, random_state=42).fit(X_log2)\n",
    "                for k in range(1, 10)]\n",
    "inertias = [model.inertia_ for model in kmeans_per_k]\n",
    "plt.figure(figsize=(8, 3.5))\n",
    "plt.plot(range(1, 10), inertias, \"bo-\")\n",
    "plt.xlabel(\"$k$\", fontsize=14)\n",
    "plt.ylabel(\"Inertia\", fontsize=14)\n",
    "plt.title(\"Elbow Plot of the Inertia as a Function of the Clusters k\")\n",
    "save_fig(\"Elbow_plot_with_log_values\")\n",
    "plt.show()"
   ]
  },
  {
   "cell_type": "code",
   "execution_count": 19,
   "metadata": {},
   "outputs": [
    {
     "data": {
      "text/plain": [
       "25826642.218571935"
      ]
     },
     "execution_count": 19,
     "metadata": {},
     "output_type": "execute_result"
    }
   ],
   "source": [
    "# Predicting clusters with K-means and 5 clusters\n",
    "kmeans = KMeans(n_clusters=5, random_state=42)\n",
    "kmeans_pred = kmeans.fit_predict(X_log2)\n",
    "kmeans.inertia_"
   ]
  },
  {
   "cell_type": "code",
   "execution_count": 23,
   "metadata": {},
   "outputs": [
    {
     "name": "stdout",
     "output_type": "stream",
     "text": [
      "Saving figure silhouette_score_vs_k_plot\n"
     ]
    },
    {
     "data": {
      "image/png": "[encoded data removed]",
      "text/plain": [
       "<Figure size 576x216 with 1 Axes>"
      ]
     },
     "metadata": {
      "needs_background": "light"
     },
     "output_type": "display_data"
    }
   ],
   "source": [
    "# Silhoutte score of kmeans\n",
    "silhouette_score(X_log2, kmeans.labels_)\n",
    "silhouette_scores = [silhouette_score(X_log2, model.labels_)\n",
    "                     for model in kmeans_per_k[1:]]\n",
    "plt.figure(figsize=(8, 3))\n",
    "plt.plot(range(2, 10), silhouette_scores, \"bo-\")\n",
    "plt.xlabel(\"$k$\", fontsize=14)\n",
    "plt.ylabel(\"Silhouette score\", fontsize=14)\n",
    "plt.title(\"Sihoutte Score vs K\")\n",
    "save_fig(\"silhouette_score_vs_k_plot\")\n",
    "plt.show()"
   ]
  },
  {
   "cell_type": "code",
   "execution_count": 26,
   "metadata": {},
   "outputs": [
    {
     "name": "stdout",
     "output_type": "stream",
     "text": [
      "Saving figure silhouette_analysis_plot_with_log_values\n"
     ]
    },
    {
     "data": {
      "image/png": "[encoded data removed]",
      "text/plain": [
       "<Figure size 792x648 with 4 Axes>"
      ]
     },
     "metadata": {
      "needs_background": "light"
     },
     "output_type": "display_data"
    }
   ],
   "source": [
    "# Applying Silhoutte Diagram for various values of k\n",
    "\n",
    "from sklearn.metrics import silhouette_samples\n",
    "from matplotlib.ticker import FixedLocator, FixedFormatter\n",
    "\n",
    "plt.figure(figsize=(11, 9))\n",
    "\n",
    "for k in (3, 4, 5, 6):\n",
    "    plt.subplot(2, 2, k - 2)\n",
    "    \n",
    "    y_pred = kmeans_per_k[k - 1].labels_\n",
    "    silhouette_coefficients = silhouette_samples(X_log2, y_pred)\n",
    "\n",
    "    padding = len(X_log2) // 30\n",
    "    pos = padding\n",
    "    ticks = []\n",
    "    for i in range(k):\n",
    "        coeffs = silhouette_coefficients[y_pred == i]\n",
    "        coeffs.sort()\n",
    "\n",
    "        color = mpl.cm.Spectral(i / k)\n",
    "        plt.fill_betweenx(np.arange(pos, pos + len(coeffs)), 0, coeffs,\n",
    "                          facecolor=color, edgecolor=color, alpha=0.7)\n",
    "        ticks.append(pos + len(coeffs) // 2)\n",
    "        pos += len(coeffs) + padding\n",
    "\n",
    "    plt.gca().yaxis.set_major_locator(FixedLocator(ticks))\n",
    "    plt.gca().yaxis.set_major_formatter(FixedFormatter(range(k)))\n",
    "    if k in (3, 5):\n",
    "        plt.ylabel(\"Cluster\")\n",
    "    \n",
    "    if k in (5, 6):\n",
    "        plt.gca().set_xticks([-0.1, 0, 0.2, 0.4, 0.6, 0.8, 1])\n",
    "        plt.xlabel(\"Silhouette Coefficient\")\n",
    "    else:\n",
    "        plt.tick_params(labelbottom=False)\n",
    "\n",
    "    plt.axvline(x=silhouette_scores[k - 2], color=\"red\", linestyle=\"--\")\n",
    "    plt.title(\"$k={}$\".format(k), fontsize=16)\n",
    "\n",
    "save_fig(\"silhouette_analysis_plot_with_log_values\")\n",
    "plt.show()"
   ]
  },
  {
   "cell_type": "code",
   "execution_count": 29,
   "metadata": {},
   "outputs": [],
   "source": [
    "pca = PCA(n_components = 2)\n",
    "X2D = pca.fit_transform(X)"
   ]
  },
  {
   "cell_type": "code",
   "execution_count": 30,
   "metadata": {},
   "outputs": [
    {
     "data": {
      "text/plain": [
       "array([-3.58170771e-06, -3.37698003e-06,  5.99940334e-04, ...,\n",
       "       -0.00000000e+00, -0.00000000e+00, -0.00000000e+00])"
      ]
     },
     "execution_count": 30,
     "metadata": {},
     "output_type": "execute_result"
    }
   ],
   "source": [
    "pca.components_.T[:,0]"
   ]
  },
  {
   "cell_type": "code",
   "execution_count": 31,
   "metadata": {},
   "outputs": [
    {
     "data": {
      "text/plain": [
       "array([0.42779671, 0.14804008])"
      ]
     },
     "execution_count": 31,
     "metadata": {},
     "output_type": "execute_result"
    }
   ],
   "source": [
    "pca.explained_variance_ratio_"
   ]
  },
  {
   "cell_type": "code",
   "execution_count": 73,
   "metadata": {},
   "outputs": [],
   "source": [
    "pca = PCA(n_components = 2)\n",
    "X2D = pca.fit_transform(X_log2)"
   ]
  },
  {
   "cell_type": "code",
   "execution_count": 74,
   "metadata": {},
   "outputs": [
    {
     "data": {
      "text/plain": [
       "array([-8.28784206e-05, -5.85028284e-05, -1.00745896e-02, ...,\n",
       "       -0.00000000e+00, -0.00000000e+00, -0.00000000e+00])"
      ]
     },
     "execution_count": 74,
     "metadata": {},
     "output_type": "execute_result"
    }
   ],
   "source": [
    "pca.components_.T[:,0]"
   ]
  },
  {
   "cell_type": "code",
   "execution_count": 79,
   "metadata": {},
   "outputs": [
    {
     "data": {
      "text/plain": [
       "0.0003322943882740095"
      ]
     },
     "execution_count": 79,
     "metadata": {},
     "output_type": "execute_result"
    }
   ],
   "source": [
    "np.max(pca.components_[:,0])"
   ]
  },
  {
   "cell_type": "code",
   "execution_count": 80,
   "metadata": {},
   "outputs": [
    {
     "data": {
      "text/plain": [
       "0.033358095941326"
      ]
     },
     "execution_count": 80,
     "metadata": {},
     "output_type": "execute_result"
    }
   ],
   "source": [
    "np.max(pca.components_.T[:,0])"
   ]
  },
  {
   "cell_type": "code",
   "execution_count": null,
   "metadata": {},
   "outputs": [],
   "source": []
  },
  {
   "cell_type": "code",
   "execution_count": 48,
   "metadata": {},
   "outputs": [
    {
     "data": {
      "text/plain": [
       "array([0.13887565, 0.06882332])"
      ]
     },
     "execution_count": 48,
     "metadata": {},
     "output_type": "execute_result"
    }
   ],
   "source": [
    "pca.explained_variance_ratio_"
   ]
  },
  {
   "cell_type": "code",
   "execution_count": 13,
   "metadata": {},
   "outputs": [],
   "source": [
    "cumsum = np.cumsum(pca.explained_variance_ratio_)\n",
    "d = np.argmax(cumsum >= 85) + 1"
   ]
  },
  {
   "cell_type": "code",
   "execution_count": 14,
   "metadata": {},
   "outputs": [
    {
     "data": {
      "text/plain": [
       "1"
      ]
     },
     "execution_count": 14,
     "metadata": {},
     "output_type": "execute_result"
    }
   ],
   "source": [
    "d"
   ]
  },
  {
   "cell_type": "code",
   "execution_count": 19,
   "metadata": {},
   "outputs": [
    {
     "data": {
      "text/plain": [
       "array([0.42779671, 0.14804008, 0.05785528, 0.04294885, 0.02411034,\n",
       "       0.0167119 , 0.01409453, 0.01114905, 0.00960092, 0.00709494,\n",
       "       0.00630011, 0.00590574, 0.00513572, 0.00492604, 0.00441136,\n",
       "       0.00432671, 0.0038999 , 0.00371033, 0.00360068, 0.00354081,\n",
       "       0.00342199, 0.00335464, 0.00317406, 0.00305033, 0.00297623,\n",
       "       0.00293527, 0.00282606, 0.00279769, 0.00273712, 0.00269319,\n",
       "       0.00264597, 0.00254302, 0.00248401, 0.00247497, 0.00242626,\n",
       "       0.00239345])"
      ]
     },
     "execution_count": 19,
     "metadata": {},
     "output_type": "execute_result"
    }
   ],
   "source": [
    "pca = PCA(n_components=0.85)\n",
    "X_reduced = pca.fit_transform(X)\n",
    "pca.components_.T[:,0]\n",
    "len(pca.components_.T[:,0])\n",
    "pca.explained_variance_ratio_"
   ]
  },
  {
   "cell_type": "code",
   "execution_count": 22,
   "metadata": {},
   "outputs": [
    {
     "data": {
      "text/plain": [
       "36"
      ]
     },
     "execution_count": 22,
     "metadata": {},
     "output_type": "execute_result"
    }
   ],
   "source": [
    "len(pca.explained_variance_ratio_)"
   ]
  },
  {
   "cell_type": "code",
   "execution_count": 23,
   "metadata": {},
   "outputs": [
    {
     "data": {
      "text/plain": [
       "array([0.13887565, 0.06882332, 0.03042886, 0.01353755, 0.01241041,\n",
       "       0.0068265 , 0.00579699, 0.00485573, 0.00462978, 0.00405961,\n",
       "       0.00350371, 0.00345371, 0.0032804 , 0.00326608, 0.00323887,\n",
       "       0.00318921, 0.00316092, 0.00311762, 0.00309984, 0.00309466,\n",
       "       0.00307812, 0.00306924, 0.00304944, 0.00304469, 0.00301652,\n",
       "       0.00298546, 0.00297408, 0.00295759, 0.0029464 , 0.00292966,\n",
       "       0.00290866, 0.00288597, 0.0028815 , 0.00286698, 0.00285238,\n",
       "       0.00284981, 0.00283528, 0.00282552, 0.00280262, 0.00279568,\n",
       "       0.00277751, 0.00276954, 0.00275887, 0.00274073, 0.00272451,\n",
       "       0.00271323, 0.00269462, 0.00268815, 0.00268551, 0.00266237,\n",
       "       0.00263724, 0.00262441, 0.0026104 , 0.00259549, 0.00259174,\n",
       "       0.00258323, 0.00256464, 0.00255921, 0.00253942, 0.00251715,\n",
       "       0.00250399, 0.00246212, 0.00243931, 0.00236837, 0.00233028,\n",
       "       0.0023187 , 0.0022265 , 0.00221759, 0.0021892 , 0.00213424,\n",
       "       0.00211455, 0.00208898, 0.0020642 , 0.00204224, 0.00203296,\n",
       "       0.00202508, 0.00200473, 0.00199624, 0.001968  , 0.0019641 ,\n",
       "       0.00195651, 0.00193836, 0.00193675, 0.00193451, 0.00192885,\n",
       "       0.00191291, 0.00190122, 0.00189507, 0.00188928, 0.00188633,\n",
       "       0.00188027, 0.00187808, 0.0018618 , 0.00185945, 0.0018539 ,\n",
       "       0.00184623, 0.0018408 , 0.00183509, 0.00183095, 0.00181877,\n",
       "       0.00181043, 0.00180536, 0.00180181, 0.00179604, 0.00178865,\n",
       "       0.00178553, 0.0017733 , 0.00177274, 0.00176092, 0.00175864,\n",
       "       0.00175764, 0.00175395, 0.0017519 , 0.00174346, 0.00174142,\n",
       "       0.00173378, 0.00172903, 0.00172544, 0.0017207 , 0.00171994,\n",
       "       0.00171184, 0.00170924, 0.00170471, 0.0017034 , 0.00169856,\n",
       "       0.00169429, 0.00169201, 0.00168728, 0.00168018, 0.00167633,\n",
       "       0.00167496, 0.00166888, 0.00166511, 0.00165937, 0.00165181,\n",
       "       0.00164886, 0.00164592, 0.00164154, 0.00163527, 0.00163493,\n",
       "       0.00163278, 0.00163009, 0.00162875, 0.00162359, 0.00161208,\n",
       "       0.00160926, 0.00160724, 0.0016031 , 0.00160186, 0.00159943,\n",
       "       0.00159385, 0.00158805, 0.00158458, 0.00158093, 0.00157728,\n",
       "       0.00157465, 0.00157356, 0.00156425, 0.00156121, 0.00155774,\n",
       "       0.00155602, 0.00155201, 0.0015486 , 0.00154439, 0.00154158,\n",
       "       0.00154044, 0.00153639, 0.00153192, 0.00152922, 0.00152601,\n",
       "       0.00152521, 0.00151859, 0.00151653, 0.00151387, 0.00151007,\n",
       "       0.00150679, 0.00150344, 0.00150092, 0.00150006, 0.0014959 ,\n",
       "       0.00148996, 0.00148781, 0.00148618, 0.00148466, 0.00148183,\n",
       "       0.00147811, 0.00147327, 0.00147121, 0.00146855, 0.0014648 ,\n",
       "       0.00146256, 0.00145916, 0.00145654, 0.00145269, 0.00145089,\n",
       "       0.00144999, 0.00144948, 0.00144203, 0.00143974, 0.00143771,\n",
       "       0.00143409, 0.00143026, 0.00142756, 0.00142333, 0.00141984,\n",
       "       0.00141867, 0.00141667, 0.00141347, 0.00141163, 0.00140462,\n",
       "       0.00140248, 0.0014018 , 0.00140097, 0.00139415, 0.0013934 ,\n",
       "       0.001391  , 0.00138988, 0.00138578, 0.00138239, 0.00137776,\n",
       "       0.0013751 , 0.00137463, 0.00137267, 0.00137167, 0.00136738,\n",
       "       0.00136389, 0.00136317, 0.00136013, 0.00135812, 0.00135046,\n",
       "       0.00134892, 0.00134514, 0.00134363, 0.00134182, 0.00134068,\n",
       "       0.00133718, 0.00133395, 0.00133302, 0.00133054, 0.00132924,\n",
       "       0.00132598, 0.00132354, 0.00132174, 0.00131988, 0.00131603,\n",
       "       0.00131244, 0.00131067, 0.00130648, 0.00130406, 0.00130285,\n",
       "       0.00129805, 0.00129616, 0.0012952 , 0.00129362, 0.00128709,\n",
       "       0.00128661, 0.00128606, 0.00128162, 0.00128097, 0.00127777,\n",
       "       0.001275  , 0.00127261, 0.00126862, 0.00126753, 0.00126496,\n",
       "       0.00126207, 0.0012606 , 0.00125364, 0.00125188, 0.00125009,\n",
       "       0.00124591, 0.00124518, 0.00124171, 0.00124114, 0.00123838,\n",
       "       0.00123715, 0.00123481, 0.00123253, 0.00123011, 0.00122545,\n",
       "       0.00122352, 0.00122272, 0.00122036, 0.00121871, 0.00121673,\n",
       "       0.00121506, 0.00121338, 0.00120935, 0.00120763, 0.00120566,\n",
       "       0.00120217, 0.00120089, 0.0011968 , 0.00119591, 0.00119048,\n",
       "       0.00118924, 0.0011865 , 0.0011853 , 0.00118207, 0.00117799,\n",
       "       0.00117445, 0.00117373, 0.00117223, 0.00116952, 0.00116831,\n",
       "       0.00116566, 0.00116352, 0.0011611 , 0.00116013, 0.00115801,\n",
       "       0.00115464, 0.00115155, 0.00115009, 0.00114709, 0.00114307,\n",
       "       0.0011418 , 0.0011396 , 0.00113894, 0.00113604, 0.00113194,\n",
       "       0.00113173, 0.00113027, 0.00112657, 0.00112298, 0.00112246,\n",
       "       0.0011174 , 0.00111666, 0.00111362, 0.00111168, 0.00111   ,\n",
       "       0.00110681, 0.00110406, 0.00110179, 0.00109876, 0.00109638,\n",
       "       0.00109392, 0.00109131, 0.00109096, 0.00109073])"
      ]
     },
     "execution_count": 23,
     "metadata": {},
     "output_type": "execute_result"
    }
   ],
   "source": [
    "pca = PCA(n_components=0.85)\n",
    "X_reduced = pca.fit_transform(X_log2)\n",
    "pca.components_.T[:,0]\n",
    "len(pca.components_.T[:,0])\n",
    "pca.explained_variance_ratio_"
   ]
  },
  {
   "cell_type": "code",
   "execution_count": 24,
   "metadata": {},
   "outputs": [
    {
     "data": {
      "text/plain": [
       "339"
      ]
     },
     "execution_count": 24,
     "metadata": {},
     "output_type": "execute_result"
    }
   ],
   "source": [
    "len(pca.explained_variance_ratio_)"
   ]
  },
  {
   "cell_type": "code",
   "execution_count": 4,
   "metadata": {},
   "outputs": [],
   "source": [
    "# Manually extracting PCAs from log transformed data\n",
    "# X_centered = X_log2 - X_log2.mean(axis=0)\n",
    "# U, s, Vt = np.linalg.svd(X_centered)\n",
    "# c1_log = Vt_log.T[:0]\n",
    "# c2_log = Vt.T[:,1]\n",
    "# m, n = X_log2.shape\n",
    "\n",
    "# S = np.zeros(X_centered.shape)\n",
    "# S[:n, :n] = np.diag(s)\n",
    "\n",
    "# Check whether X_centered matches U@S@Vt\n",
    "# np.allclose(X_centered, U.dot(S).dot(Vt))"
   ]
  },
  {
   "cell_type": "code",
   "execution_count": 3,
   "metadata": {},
   "outputs": [],
   "source": [
    "# Projecting the log transformed training data onto the plane defined by the first two principal components\n",
    "# W2 = Vt.T[:, :2]\n",
    "# X2D_using_svd = X_centered_log.dot(W2)\n"
   ]
  },
  {
   "cell_type": "code",
   "execution_count": null,
   "metadata": {},
   "outputs": [],
   "source": [
    "# computing the explained variance ratio with s as the diagonal of the matrix s\n",
    "# np.square(s) / np.square(s).sum()"
   ]
  },
  {
   "cell_type": "code",
   "execution_count": null,
   "metadata": {},
   "outputs": [],
   "source": [
    "# Visualizing data\n",
    "import matplotlib.pyplot as plt\n",
    "fig, ax = plt.subplots()\n",
    "ax.scatter(X_log2, y)\n",
    "plt.show()"
   ]
  },
  {
   "cell_type": "code",
   "execution_count": 50,
   "metadata": {},
   "outputs": [
    {
     "data": {
      "image/png": "[encoded data removed]",
      "text/plain": [
       "<Figure size 432x288 with 1 Axes>"
      ]
     },
     "metadata": {
      "needs_background": "light"
     },
     "output_type": "display_data"
    }
   ],
   "source": [
    "# Visualizing data\n",
    "import matplotlib.pyplot as plt\n",
    "fig, ax = plt.subplots()\n",
    "ax.scatter(X2D[:,0], X2D[:,1])\n",
    "plt.show()"
   ]
  },
  {
   "cell_type": "code",
   "execution_count": 51,
   "metadata": {},
   "outputs": [],
   "source": [
    "from sklearn.manifold import MDS\n",
    "\n",
    "mds = MDS(n_components=2, random_state=42)\n",
    "X_reduced_mds = mds.fit_transform(X_log2)"
   ]
  },
  {
   "cell_type": "code",
   "execution_count": 52,
   "metadata": {},
   "outputs": [
    {
     "data": {
      "image/png": "[encoded data removed]",
      "text/plain": [
       "<Figure size 432x288 with 1 Axes>"
      ]
     },
     "metadata": {
      "needs_background": "light"
     },
     "output_type": "display_data"
    }
   ],
   "source": [
    "# Visualizing data\n",
    "import matplotlib.pyplot as plt\n",
    "fig, ax = plt.subplots()\n",
    "ax.scatter(X_reduced_mds[:,0], X_reduced_mds[:,1])\n",
    "plt.show()"
   ]
  },
  {
   "cell_type": "code",
   "execution_count": 92,
   "metadata": {},
   "outputs": [],
   "source": [
    "from sklearn.manifold import TSNE\n",
    "\n",
    "pca = PCA(n_components = 50)\n",
    "X2D_tsne = pca.fit_transform(X_log2)\n",
    "tsne = TSNE(n_components=2,perplexity=40, random_state=42)\n",
    "X_reduced_tsne = tsne.fit_transform(X2D_tsne)"
   ]
  },
  {
   "cell_type": "code",
   "execution_count": 93,
   "metadata": {},
   "outputs": [
    {
     "data": {
      "image/png": "[encoded data removed]",
      "text/plain": [
       "<Figure size 432x288 with 1 Axes>"
      ]
     },
     "metadata": {
      "needs_background": "light"
     },
     "output_type": "display_data"
    }
   ],
   "source": [
    "# Visualizing data\n",
    "import matplotlib.pyplot as plt\n",
    "X_tsne_sorted = np.sort(X_reduced_tsne)\n",
    "fig, ax = plt.subplots()\n",
    "ax.scatter(X_reduced_tsne[:,0], X_reduced_tsne[:,1])\n",
    "plt.show()"
   ]
  },
  {
   "cell_type": "code",
   "execution_count": 86,
   "metadata": {},
   "outputs": [],
   "source": [
    "pca = PCA(n_components = 50)\n",
    "X_50PCA = pca.fit_transform(X_log2)"
   ]
  },
  {
   "cell_type": "code",
   "execution_count": 118,
   "metadata": {},
   "outputs": [
    {
     "data": {
      "text/plain": [
       "(511, 50)"
      ]
     },
     "execution_count": 118,
     "metadata": {},
     "output_type": "execute_result"
    }
   ],
   "source": [
    "X_50PCA.shape"
   ]
  },
  {
   "cell_type": "code",
   "execution_count": 89,
   "metadata": {},
   "outputs": [
    {
     "data": {
      "text/plain": [
       "50"
      ]
     },
     "execution_count": 89,
     "metadata": {},
     "output_type": "execute_result"
    }
   ],
   "source": [
    "len(pca.explained_variance_ratio_)"
   ]
  },
  {
   "cell_type": "code",
   "execution_count": 91,
   "metadata": {},
   "outputs": [
    {
     "data": {
      "text/plain": [
       "50"
      ]
     },
     "execution_count": 91,
     "metadata": {},
     "output_type": "execute_result"
    }
   ],
   "source": [
    "len(pca.components_)"
   ]
  },
  {
   "cell_type": "code",
   "execution_count": 126,
   "metadata": {},
   "outputs": [],
   "source": [
    "# K-Means\n",
    "k = 5\n",
    "kmeans = KMeans(n_clusters=k)\n",
    "kmeans_data = kmeans.fit(X_50PCA)"
   ]
  },
  {
   "cell_type": "code",
   "execution_count": 128,
   "metadata": {},
   "outputs": [
    {
     "data": {
      "text/plain": [
       "KMeans(n_clusters=5)"
      ]
     },
     "execution_count": 128,
     "metadata": {},
     "output_type": "execute_result"
    }
   ],
   "source": [
    "kmeans_data"
   ]
  },
  {
   "cell_type": "code",
   "execution_count": 130,
   "metadata": {},
   "outputs": [
    {
     "data": {
      "text/plain": [
       "5930976.688059369"
      ]
     },
     "execution_count": 130,
     "metadata": {},
     "output_type": "execute_result"
    }
   ],
   "source": [
    "kmeans.inertia_"
   ]
  },
  {
   "cell_type": "code",
   "execution_count": 2,
   "metadata": {},
   "outputs": [],
   "source": [
    "#plt.scatter(X_50PCA[:,0], X_50PCA[:,1], c=kmeans_data, cmap=plt.cm.hot)"
   ]
  },
  {
   "cell_type": "code",
   "execution_count": 112,
   "metadata": {},
   "outputs": [
    {
     "data": {
      "image/png": "[encoded data removed]",
      "text/plain": [
       "<Figure size 432x288 with 1 Axes>"
      ]
     },
     "metadata": {
      "needs_background": "light"
     },
     "output_type": "display_data"
    }
   ],
   "source": [
    "fig, ax = plt.subplots()\n",
    "ax.scatter(X_reduced_tsne[:,0], X_reduced_tsne[:,1], c=y_pred,cmap=plt.cm.hot)\n",
    "plt.show()"
   ]
  },
  {
   "cell_type": "code",
   "execution_count": 113,
   "metadata": {},
   "outputs": [
    {
     "data": {
      "image/png": "[encoded data removed]",
      "text/plain": [
       "<Figure size 432x288 with 1 Axes>"
      ]
     },
     "metadata": {
      "needs_background": "light"
     },
     "output_type": "display_data"
    }
   ],
   "source": [
    "fig, ax = plt.subplots()\n",
    "ax.scatter(X_reduced_mds[:,0], X_reduced_mds[:,1],c=y_pred,cmap=plt.cm.hot)\n",
    "plt.show()"
   ]
  },
  {
   "cell_type": "code",
   "execution_count": 114,
   "metadata": {},
   "outputs": [
    {
     "data": {
      "image/png": "[encoded data removed]",
      "text/plain": [
       "<Figure size 432x288 with 1 Axes>"
      ]
     },
     "metadata": {
      "needs_background": "light"
     },
     "output_type": "display_data"
    }
   ],
   "source": [
    "fig, ax = plt.subplots()\n",
    "ax.scatter(X2D[:,0], X2D[:,1], c=y_pred, cmap=plt.cm.hot)\n",
    "plt.show()"
   ]
  },
  {
   "cell_type": "code",
   "execution_count": 116,
   "metadata": {},
   "outputs": [
    {
     "data": {
      "text/plain": [
       "5"
      ]
     },
     "execution_count": 116,
     "metadata": {},
     "output_type": "execute_result"
    }
   ],
   "source": [
    "len(kmeans.cluster_centers_)"
   ]
  },
  {
   "cell_type": "code",
   "execution_count": 117,
   "metadata": {},
   "outputs": [
    {
     "data": {
      "text/plain": [
       "5770329.0740197655"
      ]
     },
     "execution_count": 117,
     "metadata": {},
     "output_type": "execute_result"
    }
   ],
   "source": [
    "kmeans.inertia_"
   ]
  },
  {
   "cell_type": "code",
   "execution_count": 123,
   "metadata": {},
   "outputs": [
    {
     "data": {
      "image/png": "[encoded data removed]",
      "text/plain": [
       "<Figure size 576x252 with 1 Axes>"
      ]
     },
     "metadata": {
      "needs_background": "light"
     },
     "output_type": "display_data"
    }
   ],
   "source": [
    "kmeans_per_k = [KMeans(n_clusters=k, random_state=42).fit(X_50PCA)\n",
    "                for k in range(1, 10)]\n",
    "inertias = [model.inertia_ for model in kmeans_per_k]\n",
    "plt.figure(figsize=(8, 3.5))\n",
    "plt.plot(range(1, 10), inertias, \"bo-\")\n",
    "plt.xlabel(\"$k$\", fontsize=14)\n",
    "plt.ylabel(\"Inertia\", fontsize=14)\n",
    "plt.show()"
   ]
  },
  {
   "cell_type": "code",
   "execution_count": 124,
   "metadata": {},
   "outputs": [
    {
     "data": {
      "text/plain": [
       "5770329.0740197655"
      ]
     },
     "execution_count": 124,
     "metadata": {},
     "output_type": "execute_result"
    }
   ],
   "source": [
    "kmeans.inertia_"
   ]
  },
  {
   "cell_type": "code",
   "execution_count": null,
   "metadata": {},
   "outputs": [],
   "source": []
  }
 ],
 "metadata": {
  "kernelspec": {
   "display_name": "Python 3",
   "language": "python",
   "name": "python3"
  },
  "language_info": {
   "codemirror_mode": {
    "name": "ipython",
    "version": 3
   },
   "file_extension": ".py",
   "mimetype": "text/x-python",
   "name": "python",
   "nbconvert_exporter": "python",
   "pygments_lexer": "ipython3",
   "version": "3.8.5"
  }
 },
 "nbformat": 4,
 "nbformat_minor": 4
}
